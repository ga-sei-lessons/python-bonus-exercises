{
 "cells": [
  {
   "cell_type": "markdown",
   "metadata": {},
   "source": [
    "# Control Flow Exercises"
   ]
  },
  {
   "cell_type": "code",
   "execution_count": null,
   "metadata": {},
   "outputs": [],
   "source": [
    "# exercise-01 Vowel or Consonant\n",
    "\n",
    "# Write the code that:\n",
    "# 1. Prompts the user to enter a letter in the alphabet:\n",
    "#      Please enter a letter from the alphabet (a-z or A-Z): \n",
    "# 2. Write the code that determines whether the letter entered is a vowel\n",
    "# 3. Print one of following messages (substituting the letter for x):\n",
    "#      - The letter x is a vowel\n",
    "#      - The letter x is a consonant\n",
    "\n",
    "# Hints:  Use the in operator to check if a character is in another string\n",
    "#         For example, if some_char in 'abc':\n",
    "\n",
    "letter = input('Please enter a letter from the alphabet (a-z or A-Z): ').lower()\n",
    "if letter in 'a e i o u':\n",
    "  print(f'The letter {letter} is a vowel')\n",
    "else:\n",
    "  print(f'The letter {letter} is a consonant')"
   ]
  },
  {
   "cell_type": "code",
   "execution_count": null,
   "metadata": {},
   "outputs": [],
   "source": [
    "# exercise-02 Length of Phrase\n",
    "\n",
    "# Write the code that:\n",
    "# 1. Prompts the user to enter a phrase:\n",
    "#      Please enter a word or phrase: \n",
    "# 2. Print the following message:\n",
    "#      - What you entered is xx characters long\n",
    "# 3. Return to step 1, unless the word 'quit' was entered.\n",
    "\n",
    "phrase = ''\n",
    "while phrase != 'quit':\n",
    "  phrase = input('Please enter a word or phrase: ')\n",
    "  print(f'What you entered is {len(phrase)} characters long')"
   ]
  },
  {
   "cell_type": "code",
   "execution_count": null,
   "metadata": {},
   "outputs": [],
   "source": [
    "# exercise-03 Calculate Dog Years\n",
    "\n",
    "# Write the code that:\n",
    "# 1. Prompts the user to enter a dog's age like this:\n",
    "#      Input a dog's age: \n",
    "# 2. Calculates the equivalent dog years, where:\n",
    "#      - The first two years count as 10 years each\n",
    "#      - Any remaining years count as 7 years each\n",
    "# 3. Prints the answer in the following format:\n",
    "#      The dog's age in dog years is xx\n",
    "\n",
    "# Hints:\n",
    "# Use the int() function to convert the string returned from input() into an integer\n",
    "# Start with an if that checks if the age is less than 3\n",
    "\n",
    "human_years = int(input(\"Input a dog's age in human years: \"))\n",
    "if human_years < 3:\n",
    "  dog_years = human_years * 10\n",
    "else:\n",
    "  dog_years = 20 + (human_years - 2) * 7\n",
    "print(f\"The dog's age in dog years is {dog_years}\")"
   ]
  },
  {
   "cell_type": "code",
   "execution_count": null,
   "metadata": {},
   "outputs": [],
   "source": [
    "# exercise-04 What kind of Triangle?\n",
    "\n",
    "# Write the code that:\n",
    "# 1. Prompts the user to enter the three lengths of a triangle (one at a time):\n",
    "#      Enter the lengths of three side of a triangle:\n",
    "#      a: \n",
    "#      b:\n",
    "#      c:\n",
    "# 2. Write the code that determines if the triangle is:\n",
    "#      equilateral - all three sides are equal in length\n",
    "#      scalene - all three sides are unequal in length\n",
    "#      isosceles - exactly two sides are the same length\n",
    "# 3. Print a message such as:\n",
    "#      - A triangle with sides of <a>, <b> & <c> is a <type of triangle> triangle\n",
    "\n",
    "print('Enter the lengths of three side of a triangle:')\n",
    "a = input('a: ')\n",
    "b = input('b: ')\n",
    "c = input('c: ')\n",
    "\n",
    "if a == b and b == c:\n",
    "  print(f'A triangle with sides of {a}, {b} & {c} is an equalateral triangle')\n",
    "elif a != b and a != c and b != c:\n",
    "  print(f'A triangle with sides of {a}, {b} & {c} is a scalene triangle')\n",
    "else:\n",
    "  print(f'A triangle with sides of {a}, {b} & {c} is an isosceles triangle')"
   ]
  },
  {
   "cell_type": "code",
   "execution_count": null,
   "metadata": {},
   "outputs": [],
   "source": [
    "# exercise-05 What's the Season?\n",
    "\n",
    "# Write the code that:\n",
    "# 1. Prompts the user to enter the month (as three characters):\n",
    "#      Enter the month of the year (Jan - Dec):\n",
    "# 2. Then prompts the user to enter the day of the month: \n",
    "#      Enter the day of the month:\n",
    "# 3. Calculate what season it is based upon this chart:\n",
    "#      Dec 21 - Mar 19: Winter\n",
    "#      Mar 20 - Jun 20: Spring\n",
    "#      Jun 21 - Sep 21: Summer\n",
    "#      Sep 22 - Dec 20: Fall\n",
    "# 4. Print the result as follows:\n",
    "#      <Mmm> <dd> is in <season> \n",
    "\n",
    "# Hints:\n",
    "# Consider using the in operator to check if a string is in a particular list/tuple like this:\n",
    "#   if input_month in ('Jan', 'Feb', 'Mar'):\n",
    "#\n",
    "# After setting the likely season, you can use another if...elif...else statement to \"adjust\" if\n",
    "# the day number falls within a certain range.\n",
    "\n",
    "mo = input('Enter the month of the season (Jan - Dec): ')\n",
    "day = int(input('Enter the day of the month: '))\n",
    "if mo in ('Jan', 'Feb', 'Mar'):\n",
    "  season = 'Winter'\n",
    "elif mo in ('Apr', 'May', 'Jun'):\n",
    "  season = 'Spring'\n",
    "elif mo in ('Jul', 'Aug', 'Sep'):\n",
    "  season = 'Summer'\n",
    "else:\n",
    "  season = 'Fall'\n",
    "if mo == 'Mar' and day > 19:\n",
    "  season = 'Spring'\n",
    "elif mo == 'Jun' and day > 20:\n",
    "  season = 'Summer'\n",
    "elif mo == 'Sep' and day > 21:\n",
    "  season = 'Fall'\n",
    "elif mo == 'Dec' and day > 20:\n",
    "  season = 'Winter'\n",
    "print(f'{mo} {day} is in {season}')\n",
    "\n",
    "# More concise using the Python version of a ternary expression...\n",
    "# mo = input('Enter the month of the year (Jan - Dec): ')\n",
    "# day = int(input('Enter the day of the month: '))\n",
    "# if mo in ('Dec', 'Jan', 'Feb'):\n",
    "#   season = 'Fall' if mo == 'Dec' and day < 21 else 'Winter'\n",
    "# elif mo in ('Mar', 'Apr', 'May'):\n",
    "#   season = 'Winter' if mo == 'Mar' and day < 20 else 'Spring'\n",
    "# elif mo in ('Jun', 'Jul', 'Aug'):\n",
    "#   season = 'Spring' if mo == 'Jun' and day < 21 else 'Summer'\n",
    "# else:\n",
    "#   season = 'Summer' if mo == 'Sep' and day < 22 else 'Fall'\n",
    "# print(f'{mo} {day} is in {season}')"
   ]
  },
  {
   "cell_type": "markdown",
   "metadata": {},
   "source": [
    "# Containers Exercises"
   ]
  },
  {
   "cell_type": "markdown",
   "metadata": {},
   "source": [
    "#### Exercise 1\n",
    "\n",
    "- Create a list named `students` containing some student names (strings).\n",
    "- Print out the second student's name.\n",
    "- Print out the last student's name."
   ]
  },
  {
   "cell_type": "code",
   "execution_count": null,
   "metadata": {},
   "outputs": [],
   "source": [
    "# Exercise 1\n",
    "students = ['Sally', 'Jose', 'Jackie']\n",
    "first_student = students[0]\n",
    "last_student = students[-1]"
   ]
  },
  {
   "cell_type": "markdown",
   "metadata": {},
   "source": [
    "#### Exercise 2\n",
    "\n",
    "- Create a tuple named `foods` containing the same number of foods (strings) as there are names in the `students` list.\n",
    "- Use a `for` loop to print out the string \"[_food goes here_] is a good food\"."
   ]
  },
  {
   "cell_type": "code",
   "execution_count": 2,
   "metadata": {},
   "outputs": [],
   "source": [
    "# Exercise 2\n",
    "foods = ('Pizza', 'Burrito', 'Cheeseburger')\n",
    "meal = ''\n",
    "for food in foods:\n",
    "  meal += food"
   ]
  },
  {
   "cell_type": "markdown",
   "metadata": {},
   "source": [
    "#### Exercise 3\n",
    "\n",
    "- Using a `for` loop, print just the last two food strings from `foods`.\n",
    "\n",
    "  > Hint:  Use the slice operator to select the last two foods"
   ]
  },
  {
   "cell_type": "code",
   "execution_count": 3,
   "metadata": {},
   "outputs": [
    {
     "name": "stdout",
     "output_type": "stream",
     "text": [
      "Burrito\n",
      "Cheeseburger\n"
     ]
    }
   ],
   "source": [
    "# Exercise 3\n",
    "last_two_foods = foods[-2:]\n",
    "\n",
    "for food in last_two_foods:\n",
    "    print(food)"
   ]
  },
  {
   "cell_type": "markdown",
   "metadata": {},
   "source": [
    "#### Exercise 4\n",
    "\n",
    "- Create a dictionary named `home_town` containing the keys of `city`, `state` and `population`.\n",
    "- Print a string with this format:<br>\"I was born in _city_, _state_ - population of _population_\""
   ]
  },
  {
   "cell_type": "code",
   "execution_count": null,
   "metadata": {},
   "outputs": [],
   "source": [
    "# Exercise 4\n",
    "home_town = {\n",
    "  'city': 'Arcadia',\n",
    "  'state': 'California',\n",
    "  'population': 58000\n",
    "}\n",
    "home_town_message = f\"I was born in {home_town['city']}, {home_town['state']} - population of {home_town['population']}\""
   ]
  },
  {
   "cell_type": "markdown",
   "metadata": {},
   "source": [
    "#### Exercise 5\n",
    "\n",
    "- Iterate over the _key: value_ pairs in `home_town` and print a string for each item, for example:<br>\"city = Arcadia\"<br>\"state = California\"<br>\"population = 58000\"\n"
   ]
  },
  {
   "cell_type": "code",
   "execution_count": null,
   "metadata": {},
   "outputs": [],
   "source": [
    "# Exercise 5\n",
    "home_town_items = []\n",
    "for key, value in home_town.items():\n",
    "  home_town_items.append(f\"{key} = {value}\")"
   ]
  },
  {
   "cell_type": "markdown",
   "metadata": {},
   "source": [
    "\n",
    "#### Exercise 6\n",
    "\n",
    "- Create an empty list named `cohort`.\n",
    "- Using a `for` loop to iterate over the `students` list.\n",
    "  > Hint: Use the `enumerate` function to provide both the index & student\n",
    "- Within the `for` loop, add a dictionary to the `cohort` list that combines the student's name and the food in the `foods` list at the same index. Each dictionary will have this shape:\n",
    "\n",
    "\t```python\n",
    "\t{\n",
    "\t  'student': 'Tina',\n",
    "\t  'fav_food': 'Cheeseburger'\n",
    "\t}\n",
    "\t```\n",
    "- Iterate over the `cohort` list, printing out each item (it's not necessary to format the dictionaries)."
   ]
  },
  {
   "cell_type": "code",
   "execution_count": null,
   "metadata": {},
   "outputs": [],
   "source": [
    "# Exercise 6\n",
    "\n",
    "cohort = []\n",
    "for index, name in enumerate(students):\n",
    "  cohort.append({\n",
    "    'student': name,\n",
    "    'fav_food': foods[index]\n",
    "  })\n"
   ]
  },
  {
   "cell_type": "markdown",
   "metadata": {},
   "source": [
    "#### Exercise 7\n",
    "\n",
    "- Using the list of `students` and a list comprehension, assign to a variable named `awesome_students` a new list containing strings similar to this:<br>`[\"Tina is awesome!\", \"Fred is awesome!\", \"Wilma is awesome!\"]`\n",
    "- Iterate over the `awesome_students` list, printing out each string."
   ]
  },
  {
   "cell_type": "code",
   "execution_count": null,
   "metadata": {},
   "outputs": [],
   "source": [
    "# Exercise 7\n",
    "awesome_students = [f'{name} is awesome!' for name in students]"
   ]
  },
  {
   "cell_type": "markdown",
   "metadata": {},
   "source": [
    "#### Exercise 8\n",
    "\n",
    "- Use a `for` loop to iterate over a list comprehension that filters the  `foods` tuple to only include food strings that contains the letter `a`.\n",
    "- Within the `for` loop, print each food string."
   ]
  },
  {
   "cell_type": "code",
   "execution_count": null,
   "metadata": {},
   "outputs": [],
   "source": [
    "# Exercise 8\n",
    "foods_with_an_a = [food for food in foods if 'a' in food]"
   ]
  },
  {
   "cell_type": "markdown",
   "metadata": {},
   "source": [
    "# Functions Exercises"
   ]
  },
  {
   "cell_type": "markdown",
   "metadata": {},
   "source": [
    "1. Write a function named `sum_to` that accepts a single integer, `n`, and returns the sum of the integers from 1 to `n`.\n",
    "\t\n",
    "\tFor example:\n",
    "\n",
    "\t```python\n",
    "\tsum_to(6)  # returns 21\n",
    "\tsum_to(10) # returns 55\n",
    "\t```\n"
   ]
  },
  {
   "cell_type": "code",
   "execution_count": null,
   "metadata": {},
   "outputs": [],
   "source": [
    "# Exercise 1\n",
    "def sum_to(num):\n",
    "    sum = 0\n",
    "    for n in range(1, num + 1):\n",
    "        sum += n\n",
    "    return sum"
   ]
  },
  {
   "cell_type": "markdown",
   "metadata": {},
   "source": [
    "2. Write a function named `largest` that takes a list of numbers as an argument and returns the largest number in that list.\n",
    "\n",
    "\tFor example:\n",
    "\t\n",
    "\t```python\n",
    "\tlargest([1, 2, 3, 4, 0])  # returns 4\n",
    "\tlargest([10, 4, 2, 231, 91, 54])  # returns 231"
   ]
  },
  {
   "cell_type": "code",
   "execution_count": null,
   "metadata": {},
   "outputs": [],
   "source": [
    "# Exercise 2\n",
    "def largest(nums):\n",
    "    largest = 0\n",
    "    for num in nums:\n",
    "        if num > largest:\n",
    "            largest = num\n",
    "    return largest\n",
    "\n",
    "# Sort the list approach\n",
    "# def largest(nums):\n",
    "#     nums.sort()\n",
    "#     return nums[-1]"
   ]
  },
  {
   "cell_type": "markdown",
   "metadata": {},
   "source": [
    "3. Write a function named `occurrences` that takes two string arguments as input and counts the number of occurrences of the second string inside the first string.\n",
    "\n",
    "\tFor example:\n",
    "\n",
    "\t```python\n",
    "\toccurrences('fleep floop', 'e')   # returns 2\n",
    "\toccurrences('fleep floop', 'p')   # returns 2\n",
    "\toccurrences('fleep floop', 'ee')  # returns 1\n",
    "\toccurrences('fleep floop', 'fe')  # returns 0\n",
    "\t```"
   ]
  },
  {
   "cell_type": "code",
   "execution_count": null,
   "metadata": {},
   "outputs": [],
   "source": [
    "# Exercise 3\n",
    "def occurrences(string, substr):\n",
    "    # remove each occurrence of substr\n",
    "    stripped_string = string.replace(substr, '')\n",
    "    # compute based on length of the strings\n",
    "    return (len(string) - len(stripped_string)) // len(substr)\n",
    "\t\n",
    "# Python actually has a method to solve this too!\n",
    "def occurrences(string, substr):\n",
    "    return string.count(substr)"
   ]
  },
  {
   "cell_type": "markdown",
   "metadata": {},
   "source": [
    "4. Write a function named `product` that takes an *arbitrary* number of numbers, multiplies them all together, and returns the product.<br>(HINT: Review your notes on `*args`).\n",
    "\n",
    "\tFor example:\n",
    "\t\n",
    "\t```python\n",
    "\tproduct(-1, 4) # returns -4\n",
    "\tproduct(2, 5, 5) # returns 50\n",
    "\tproduct(4, 0.5, 5) # returns 10.0"
   ]
  },
  {
   "cell_type": "code",
   "execution_count": null,
   "metadata": {},
   "outputs": [],
   "source": [
    "# Exercise 4\n",
    "def product(*args):\n",
    "    product = 1\n",
    "    for arg in args:\n",
    "        product *= arg\n",
    "    return product"
   ]
  },
  {
   "cell_type": "markdown",
   "metadata": {},
   "source": [
    "## Bonus Challenge\n",
    "\n",
    "Write a function named `steps_to_zero` that accepts a non-negative integer as an argument, and returns the number of steps it took to reduce the integer to zero. If the current number is even, you have to divide it by 2, otherwise, you have to subtract 1 from it.\n",
    "\t\n",
    "\tFor example:\n",
    "\t\n",
    "\t```python\n",
    "\tsteps_to_zero(14) # returns 6\n",
    "\t```\n",
    "\t\n",
    "\tExplanation:\n",
    "\t```\n",
    "\tStep 1) 14 is even; divide by 2 and obtain 7. \n",
    "\tStep 2) 7 is odd; subtract 1 and obtain 6.\n",
    "\tStep 3) 6 is even; divide by 2 and obtain 3. \n",
    "\tStep 4) 3 is odd; subtract 1 and obtain 2. \n",
    "\tStep 5) 2 is even; divide by 2 and obtain 1. \n",
    "\tStep 6) 1 is odd; subtract 1 and obtain 0.\n",
    "\t```"
   ]
  },
  {
   "cell_type": "code",
   "execution_count": 4,
   "metadata": {},
   "outputs": [
    {
     "data": {
      "text/plain": [
       "6"
      ]
     },
     "execution_count": 4,
     "metadata": {},
     "output_type": "execute_result"
    }
   ],
   "source": [
    "def steps_to_zero(n):\n",
    "    # Initialize a variable 'steps' to count the number of operations performed to reduce n to zero.\n",
    "    steps = 0\n",
    "    \n",
    "    # Start a while loop that runs as long as n is greater than zero.\n",
    "    while n > 0:\n",
    "        # Check if n is even by using the modulo operator (%). If n % 2 equals 0, then n is even.\n",
    "        if n % 2 == 0:\n",
    "            # If n is even, divide it by 2 using integer division (//) to ensure the result is an integer.\n",
    "            n = n // 2\n",
    "        else:  # If the if condition is not met (meaning n is odd),\n",
    "            # Subtract 1 from n. This is executed if n is not even (i.e., n is odd).\n",
    "            n = n - 1\n",
    "        \n",
    "        # After each operation (either division or subtraction), increment the 'steps' counter by 1.\n",
    "        steps += 1\n",
    "    \n",
    "    # Once the while loop ends (i.e., n has been reduced to 0), return the total number of steps taken.\n",
    "    return steps\n",
    "\n",
    "# Example usage of the function: Calculate the number of steps to reduce 14 to zero.\n",
    "steps_to_zero(14)"
   ]
  }
 ],
 "metadata": {
  "kernelspec": {
   "display_name": "Python 3",
   "language": "python",
   "name": "python3"
  },
  "language_info": {
   "codemirror_mode": {
    "name": "ipython",
    "version": 3
   },
   "file_extension": ".py",
   "mimetype": "text/x-python",
   "name": "python",
   "nbconvert_exporter": "python",
   "pygments_lexer": "ipython3",
   "version": "3.10.13"
  }
 },
 "nbformat": 4,
 "nbformat_minor": 2
}
