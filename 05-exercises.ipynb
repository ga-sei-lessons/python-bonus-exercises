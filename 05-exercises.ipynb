{
 "cells": [
  {
   "cell_type": "markdown",
   "metadata": {},
   "source": [
    "# Inheritance in Python\n",
    "\n",
    "Use your knowledge of Python Classes and Python Inheritance to model several\n",
    "types of bank accounts.\n",
    "\n",
    "Create your classes in the provided `bank.py` file.\n",
    "\n",
    "## Exercise: Write Bank Account Classes\n",
    "Let's practice writing classes and using inheritance by modelling different types\n",
    "of Bank accounts.\n",
    "\n",
    "## Part 1: Making the Parent Class\n",
    "\n",
    "* Create a base **BankAccount** class\n",
    "  * Bank accounts keep track of their current `balance`\n",
    "    * the `balance` starts at 0 until a deposit is made\n",
    "  * Bank accounts are created with a default interest rate of 2%\n",
    "  * Bank accounts have a `deposit` method\n",
    "    * the `deposit` method returns the balance of the account after adding the deposited amount.\n",
    "  * Bank accounts have a `withdraw` method\n",
    "    * the `withdraw` method returns the balance after the money was successfully withdrawn.\n",
    "  * Bank accounts return `False` if someone tries to deposit or withdraw a negative amount.\n",
    "  * Bank accounts have a `accumulate_interest` method that sets the balance equal to the balance plus the balance times the interest rate\n",
    "    * `accumulate_interest` returns the balance of the account after calculating the accumulated interest\n",
    "\n",
    "Sample Input:\n",
    "```python\n",
    "basic_account = BankAccount()\n",
    "basic_account.deposit(600)\n",
    "print(\"Basic account has ${}\".format(basic_account.balance))\n",
    "basic_account.withdraw(17)\n",
    "print(\"Basic account has ${}\".format(basic_account.balance))\n",
    "basic_account.accumulate_interest()\n",
    "print(\"Basic account has ${}\".format(basic_account.balance))\n",
    "print()\n",
    "```\n",
    "\n",
    "Sample Output:\n",
    "```\n",
    "Basic account has $600\n",
    "Basic account has $583\n",
    "Basic account has $594.66\n",
    "```"
   ]
  },
  {
   "cell_type": "code",
   "execution_count": null,
   "metadata": {},
   "outputs": [],
   "source": [
    "# Define your BankAccount class here"
   ]
  },
  {
   "cell_type": "markdown",
   "metadata": {},
   "source": [
    "## Part 2: Making a Child Class Override Parent Class Methods\n",
    "\n",
    "* Create a **ChildrensAccount** class\n",
    "  * Children's bank accounts have an interest rate of Zero.\n",
    "  * Every time `accumulate_interest` is executed on a Child's account the\n",
    "    account  always gets $10 added to the balance.\n",
    "\n",
    "Sample Input:\n",
    "```python\n",
    "childs_account = ChildrensAccount()\n",
    "childs_account.deposit(34)\n",
    "print(\"Child's account has ${}\".format(childs_account.balance))\n",
    "childs_account.withdraw(17)\n",
    "print(\"Child's account has ${}\".format(childs_account.balance))\n",
    "childs_account.accumulate_interest()\n",
    "print(\"Child's account has ${}\".format(childs_account.balance))\n",
    "print()\n",
    "```\n",
    "\n",
    "Sample Output:\n",
    "```\n",
    "Child's account has $34\n",
    "Child's account has $17\n",
    "Child's account has $27\n",
    "```"
   ]
  },
  {
   "cell_type": "code",
   "execution_count": null,
   "metadata": {},
   "outputs": [],
   "source": [
    "# Define your ChildrensAccount here"
   ]
  },
  {
   "cell_type": "markdown",
   "metadata": {},
   "source": [
    "## Part 3: Making Overdraft Account With New Properties\n",
    "\n",
    "* Create an **OverdraftAccount** class\n",
    "  * An overdraft account penalizes customers for trying to draw too much\n",
    "    money out of their account.\n",
    "  * Overdraft accounts are created with an `overdraft_penalty` property\n",
    "    that defaults to $40.\n",
    "  * Customer's aren't allowed to withdraw more money than they have in their account. If a customer tries to withdraw more than they have then the withdraw method returns `False` and their balance is deducted only by the amount of the `overdraft_penalty`.\n",
    "  * Overdraft accounts don't accumulate interest if their balance is below zero, but return `False` instead.\n",
    "\n",
    "Sample Input:\n",
    "```python\n",
    "  overdraft_account = OverdraftAccount()\n",
    "  overdraft_account.deposit(12)\n",
    "  print(\"Overdraft account has ${}\".format(overdraft_account.balance))\n",
    "  overdraft_account.withdraw(17)\n",
    "  print(\"Overdraft account has ${}\".format(overdraft_account.balance))\n",
    "  overdraft_account.accumulate_interest()\n",
    "  print(\"Overdraft account has ${}\".format(overdraft_account.balance))\n",
    "```\n",
    "\n",
    "Sample Output:\n",
    "```\n",
    "Overdraft account has $12\n",
    "Overdraft account has $-28\n",
    "Overdraft account has $-28\n",
    "```\n"
   ]
  },
  {
   "cell_type": "code",
   "execution_count": null,
   "metadata": {},
   "outputs": [],
   "source": [
    "# Define your OverdraftAccount here"
   ]
  }
 ],
 "metadata": {
  "language_info": {
   "name": "python"
  }
 },
 "nbformat": 4,
 "nbformat_minor": 2
}
