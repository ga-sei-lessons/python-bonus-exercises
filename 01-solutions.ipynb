{
 "cells": [
  {
   "cell_type": "markdown",
   "metadata": {},
   "source": [
    "# Input challenges\n",
    "\n",
    "These exercises require you to use python3's `input()` function that will allow you to stop execution of the script and wait for the user to enter a value. Inside of vscode, the prompt will open at the top of the window.\n",
    "\n",
    "There is example usage of the `input()` function below. Tinker with it to see how it works and do some googling to read about it!"
   ]
  },
  {
   "cell_type": "code",
   "execution_count": 1,
   "metadata": {},
   "outputs": [
    {
     "name": "stdout",
     "output_type": "stream",
     "text": [
      "The user has typed in 10 and it is of type <class 'str'>\n"
     ]
    }
   ],
   "source": [
    "# get input from the user\n",
    "# the string passed as an argument to the input() function will be displayed to the user\n",
    "# the value the user has typed in will be returned as a string and can be stored in a variable\n",
    "\n",
    "user_input = input(\"Hello user! Please type a value: \")\n",
    "print(f\"The user has typed in {user_input} and it is of type {type(user_input)}\")"
   ]
  },
  {
   "cell_type": "markdown",
   "metadata": {},
   "source": [
    "## Challenge 1 - Calculator\n",
    "\n",
    "Create a simple calculator that first asks the user what method they would like\n",
    "to use (addition, subtraction, multiplication, division) and then asks the user\n",
    "for two numbers, returning the result of the method with the two numbers. Here\n",
    "is a sample prompt:\n",
    "\n",
    "```\n",
    "What calculation would you like to do? (add, sub, mult, div)\n",
    "add\n",
    "What is number 1?\n",
    "3\n",
    "What is number 2?\n",
    "6\n",
    "Your result is 9\n",
    "```"
   ]
  },
  {
   "cell_type": "code",
   "execution_count": null,
   "metadata": {},
   "outputs": [],
   "source": [
    "# Calc -- solution 1\n",
    "operator = input('What action would you like to perform? ')\n",
    "num1 = int(input('What is the first number? '))\n",
    "num2 = int(input('What is the second number? '))\n",
    "result = 'Bad operator?'\n",
    "\n",
    "if operator == 'add':\n",
    "    result = num1 + num2\n",
    "elif operator == 'sub':\n",
    "    result = num1 - num2\n",
    "elif operator == 'div':\n",
    "    result = num1 / num2\n",
    "elif operator == 'mult':\n",
    "    result = num1 * num2\n",
    "\n",
    "print(f'Your result was {result}!')"
   ]
  },
  {
   "cell_type": "code",
   "execution_count": null,
   "metadata": {},
   "outputs": [],
   "source": [
    "# Calc -- solution 2 (a prompt that runs until the user quits)\n",
    "is_running = True\n",
    "\n",
    "while is_running:\n",
    "    prompt = \"> \"\n",
    "    print(\"Hello, user! What kind of math would you like to do today? (add, sub, mult, div)\")\n",
    "    math_type = input(prompt)\n",
    "\n",
    "    print(\"Enter the first Number\")\n",
    "    num_one = input(prompt)\n",
    "\n",
    "    print(\"Enter the second Number\")\n",
    "    num_two = input(prompt)\n",
    "    # print(f\"math type: {math_type}, num one: {num_one}, num two: {num_two}\")\n",
    "\n",
    "    # if/else if/else\n",
    "    # og python dictionary switch case\n",
    "    # match case\n",
    "\n",
    "    # convert to numbers \n",
    "    num_one = int(num_one)\n",
    "    num_two = int(num_two)\n",
    "\n",
    "    match math_type:\n",
    "        case \"add\":\n",
    "            print(f\"{num_one} + {num_two} = {num_one + num_two}\")\n",
    "        case \"sub\":\n",
    "            print(f\"{num_one} - {num_two} = {num_one - num_two}\")\n",
    "        case \"mult\":\n",
    "            print(f\"{num_one} * {num_two} = {num_one * num_two}\")\n",
    "        case \"div\":\n",
    "            print(f\"{num_one} / {num_two} = {num_one / num_two}\")\n",
    "        case _:\n",
    "            print(f\"ERROR: {math_type} is not a type of math that I have ever heard of!\")\n",
    "    \n",
    "    print(\"would you like to keep doing math with me? [y/n]\")\n",
    "    should_quit = input(prompt)\n",
    "    if should_quit == 'n':\n",
    "        print(\"😭\")\n",
    "        is_running = False\n",
    "    "
   ]
  },
  {
   "cell_type": "markdown",
   "metadata": {},
   "source": [
    "### Challenge 2 - Reverse a string\n",
    "\n",
    "Reverse a string manually. Don't use s[::-1] (even though that's awesome).\n",
    "Create a new variable storing an empty string and add the letters from\n",
    "the first string one by one. The for loop should iterate over the length\n",
    "of the string and you should access letters individually.\n",
    "\n",
    "Below is some sample output.\n",
    "\n",
    "```\n",
    "Enter a string:\n",
    "reverse_me\n",
    "em_esrever\n",
    "```"
   ]
  },
  {
   "cell_type": "code",
   "execution_count": 1,
   "metadata": {},
   "outputs": [
    {
     "name": "stdout",
     "output_type": "stream",
     "text": [
      "olleh\n",
      "olleh\n",
      "olleh\n"
     ]
    }
   ],
   "source": [
    "# Python offers several ways to reverse a String. This is a classic thing\n",
    "# that lots of people want to do. It's probably easy to look up this\n",
    "# answer on Stack Overflow.\n",
    "#\n",
    "# This website of 30 Python Tips and Tricks also happens to point out\n",
    "# several ways to reverse a string, and it's a good read!\n",
    "#\n",
    "# http://www.techbeamers.com/essential-python-tips-tricks-programmers/?utm_source=mybridge&utm_medium=blog&utm_campaign=read_more#tip1\n",
    "\n",
    "# Solve 1\n",
    "string = \"hello\"\n",
    "\n",
    "new_string = \"\"\n",
    "for letter in reversed(string):\n",
    "    new_string += letter\n",
    "\n",
    "print(new_string)\n",
    "\n",
    "# Solve 2\n",
    "print(\"\".join(reversed(string)))\n",
    "\n",
    "# Solve 3\n",
    "new_string = ''\n",
    "\n",
    "for char in string:\n",
    "    new_string = char + new_string\n",
    "\n",
    "print(new_string)"
   ]
  },
  {
   "cell_type": "markdown",
   "metadata": {},
   "source": [
    "### Challenge 3 - Bank Transactions\n",
    "\n",
    "Create a prompt that asks the user if they would like to display their balance,\n",
    "withdraw or deposit. Write three methods to perform these calculations and\n",
    "output the result to the user.\n",
    "\n",
    "Gather user input using the `input` function. Note that input always returns\n",
    "user input as a string. You have to manually convert it to an int or a float\n",
    "to make it behave like number. Also, end the input prompt with a \\n newline\n",
    "character if you want the user to type in on the next line.\n",
    "\n",
    "```\n",
    "age = input(\"How old are you?\\n\")\n",
    "age = int(age)\n",
    "```\n",
    "\n",
    "Here is a sample output:\n",
    "\n",
    "```\n",
    "Your current balance is\n",
    "4000\n",
    "What would you like to do? (deposit, withdraw, check_balance)\n",
    "deposit\n",
    "How much would you like to deposit?\n",
    "1000\n",
    "Your current balance is 5000\n",
    "Are you done?\n",
    "yes\n",
    "Thank you"
   ]
  },
  {
   "cell_type": "code",
   "execution_count": null,
   "metadata": {},
   "outputs": [],
   "source": [
    "print(\"Welcome to Chase bank.\")\n",
    "print(\"Welcome to Chase bank.\")\n",
    "\n",
    "is_running = True\n",
    "\n",
    "balance = 0\n",
    "\n",
    "\n",
    "while is_running:\n",
    "    # do banking\n",
    "    prompt = '➡️ '\n",
    "    # ask the user what transaction to do\n",
    "    print(\"What kind of banking are you doing? (deposit, withdrawal, check_balance\")\n",
    "    transaction = input(prompt)\n",
    "    # print('user entered:', transaction)\n",
    "    # let the user do that transaction\n",
    "    if transaction == \"deposit\":\n",
    "        print(\"how much?\")\n",
    "        how_much = input(prompt)\n",
    "        balance += float(how_much)\n",
    "    elif transaction == \"withdrawal\":\n",
    "        print(\"how much?\")\n",
    "        how_much = input(prompt)\n",
    "        balance -= float(how_much)\n",
    "    elif transaction == \"check_balance\":\n",
    "        print(f\"current balance: {balance}\")\n",
    "    else:\n",
    "        print(f\"{transaction} is not a valid transaction.\")\n",
    "\n",
    "    # ask the user if they are done\n",
    "    print(\"Are you finished with your banking? [y/n]\")\n",
    "    is_done = input(prompt)\n",
    "    if is_done == 'y':\n",
    "        is_running = False\n",
    "\n",
    "\n",
    "print(\"Have a nice day!\")\n",
    "print(\"Have a nice day!\")"
   ]
  },
  {
   "cell_type": "markdown",
   "metadata": {},
   "source": [
    "### Challenge 4 - Sort a String\n",
    "\n",
    "Create a function that takes a string and returns the string with the letters in \n",
    "alphabetical order (ie. `hello` becomes `ehllo`), Assume numbers and punctuation \n",
    "symbols will not be included in the string.\n",
    "\n",
    "```\n",
    "Give me a string to alphabetize\n",
    "supercalifragilisticexpialidocious\n",
    "Alphabetized: aaacccdeefgiiiiiiillloopprrssstuux\n",
    "```"
   ]
  },
  {
   "cell_type": "code",
   "execution_count": 2,
   "metadata": {},
   "outputs": [
    {
     "name": "stdout",
     "output_type": "stream",
     "text": [
      "aaacccdeefgiiiiiiillloopprrssstuux\n"
     ]
    }
   ],
   "source": [
    "# You'll need to use a couple of built in functions to alphabetize a string. \n",
    "# Try to avoid looking up the exact answer and look at built in functions for\n",
    "# lists and strings instead.\n",
    "\n",
    "word = 'supercalifragilisticexpialidocious'\n",
    "\n",
    "# convert string to list\n",
    "word_li = list(word)\n",
    "\n",
    "# sort list\n",
    "word_li.sort()\n",
    "\n",
    "# convert list to string\n",
    "new_string = ''.join(word_li)\n",
    "\n",
    "# alternative way to make a new string from a list\n",
    "# for char in word_li:\n",
    "#     new_string += char\n",
    "\n",
    "print(new_string)"
   ]
  }
 ],
 "metadata": {
  "kernelspec": {
   "display_name": "Python 3",
   "language": "python",
   "name": "python3"
  },
  "language_info": {
   "codemirror_mode": {
    "name": "ipython",
    "version": 3
   },
   "file_extension": ".py",
   "mimetype": "text/x-python",
   "name": "python",
   "nbconvert_exporter": "python",
   "pygments_lexer": "ipython3",
   "version": "3.10.13"
  }
 },
 "nbformat": 4,
 "nbformat_minor": 2
}
