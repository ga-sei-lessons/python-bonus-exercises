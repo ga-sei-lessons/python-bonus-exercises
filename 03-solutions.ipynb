{
 "cells": [
  {
   "cell_type": "markdown",
   "metadata": {},
   "source": [
    "# Code Challenge\n",
    "\n",
    "## Debug Challenge: We're in a Good Place!\n",
    "\n",
    "Skills you're practicing: Debugging techniques and variable scope.\n",
    "\n",
    "Jason is a huge Jacksonville Jaguars fan. The team isn't doing great now, but he has faith: \"All we need is a defense, and an offense, and some rule changes!\"\n",
    "\n",
    "This code isn't working properly -- You need to debug it to get the correct output! \n",
    "\n",
    "## Expected Output\n",
    "\n",
    "```\n",
    "How are the Jags doing?\n",
    "\n",
    "We have offense: True\n",
    "We have defense: True\n",
    "We have some rule changes: True\n",
    "We're going to the Super Bowl!\n",
    "```\n",
    "\n",
    "## Actual Output\n",
    "\n",
    "```\n",
    "How are the Jags doing?\n",
    "\n",
    "We have offense: False\n",
    "We have defense: False\n",
    "We have some rule changes: False\n",
    "I can't predict the future, but no, the Jaguars will never win the Super Bowl.\n",
    "```\n",
    "\n",
    "## Hints\n",
    "\n",
    "* Include a bunch of `print` statements everywhere to print out the values of the variables at various times. For example, inside `get_offense()`, put a `print` statement like `print('offense is', offense)`.\n",
    "* Read about [scope in python](https://www.w3schools.com/PYTHON/python_scope.asp) in order to debug this code!\n"
   ]
  },
  {
   "cell_type": "code",
   "execution_count": 1,
   "metadata": {},
   "outputs": [
    {
     "name": "stdout",
     "output_type": "stream",
     "text": [
      "How are the Jags doing?\n",
      "\n",
      "We have offense: True\n",
      "We have defense: True\n",
      "We have some rule changes: True\n",
      "We're going to the Super Bowl!\n"
     ]
    }
   ],
   "source": [
    "offense = False\n",
    "defense = False\n",
    "rule_changes = False\n",
    "\n",
    "\n",
    "def get_offense():\n",
    "    # refer to the global varaible to modify it\n",
    "    global offense\n",
    "    offense = True\n",
    "\n",
    "\n",
    "def get_defense():\n",
    "    # refer to the global varaible to modify it\n",
    "    global defense\n",
    "    defense = True\n",
    "\n",
    "    def get_rule_changes():\n",
    "        # refer to the global varaible to modify it\n",
    "        global rule_changes\n",
    "        rule_changes = True\n",
    "\n",
    "    if offense and defense:\n",
    "        get_rule_changes()\n",
    "\n",
    "\n",
    "get_offense()\n",
    "get_defense()\n",
    "\n",
    "print(\"How are the Jags doing?\\n\")\n",
    "print(\"We have offense:\", offense)\n",
    "print(\"We have defense:\", defense)\n",
    "print(\"We have some rule changes:\", rule_changes)\n",
    "\n",
    "if offense and defense and rule_changes:\n",
    "    print(\"We're going to the Super Bowl!\")\n",
    "else:\n",
    "    print(\"I can't predict the future, but no, the Jaguars will never win the Super Bowl.\")"
   ]
  }
 ],
 "metadata": {
  "kernelspec": {
   "display_name": "Python 3",
   "language": "python",
   "name": "python3"
  },
  "language_info": {
   "codemirror_mode": {
    "name": "ipython",
    "version": 3
   },
   "file_extension": ".py",
   "mimetype": "text/x-python",
   "name": "python",
   "nbconvert_exporter": "python",
   "pygments_lexer": "ipython3",
   "version": "3.10.13"
  }
 },
 "nbformat": 4,
 "nbformat_minor": 2
}
