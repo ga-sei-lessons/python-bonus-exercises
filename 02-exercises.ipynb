{
 "cells": [
  {
   "cell_type": "code",
   "execution_count": null,
   "metadata": {},
   "outputs": [],
   "source": [
    "# Write a function called `p_times` that takes a `statement` and\n",
    "# a `num` as inputs, and outputs the `statement` some `num` of times\n",
    "# to the console.\n",
    "#\n",
    "# Example function call:\n",
    "#\n",
    "# p_times('Hello there', 1)\n",
    "#\n",
    "# > Hello there\n",
    "#\n",
    "# p_times('Hello there', 3)\n",
    "#\n",
    "# > Hello there\n",
    "# > Hello there\n",
    "# > Hello there"
   ]
  },
  {
   "cell_type": "code",
   "execution_count": null,
   "metadata": {},
   "outputs": [],
   "source": [
    "# Write a function called `letter_count` to count the letter\n",
    "# occurrence in a string. Use a dictionary.\n",
    "#\n",
    "# You can iterate over a string one letter at a time using\n",
    "# a for loop.\n",
    "#\n",
    "# for letter in \"alpha\":\n",
    "#   print(letter)\n",
    "#\n",
    "# Create a dictionary with `dd = {}`. Assign values with `dd[\"foo\"] = 1`.\n",
    "# Check to see if a dictionary has a key using the `in` operator.\n",
    "#\n",
    "# dd = {}\n",
    "# dd[\"foo\"] = 1\n",
    "# dd[\"foo\"] += 1\n",
    "# if \"foo\" in dd:\n",
    "#   print(dd[\"foo\"])\n",
    "#\n",
    "# Careful. Python requires that you insert a key into a dictionary\n",
    "# before you try to modify it's value. If you try to access a dictionary\n",
    "# at a key that hasn't been added you'll get an error and the program will\n",
    "# crash. Remember to use an if statement to see if a key is \"in\" a dictionary\n",
    "# before you try to read it!\n",
    "#\n",
    "# d2 = {}\n",
    "# d2[\"foo\"]\n",
    "# > KeyError: 'foo'\n",
    "#\n",
    "# Example function call:\n",
    "#\n",
    "# letter_count('banana')\n",
    "#\n",
    "# > {'a': 3, 'b': 1, 'n': 2}"
   ]
  },
  {
   "cell_type": "code",
   "execution_count": null,
   "metadata": {},
   "outputs": [],
   "source": [
    "# Write a function called `print_contacts` that takes a\n",
    "# dictionary of key-value pairs for names and phone numbers,\n",
    "# then outputs the `name` with the contact info.\n",
    "#\n",
    "# Try iterating over a dictionary with a for loop and printing\n",
    "# out what values come back.\n",
    "#\n",
    "# Example function call:\n",
    "#\n",
    "# print_contacts(contacts)\n",
    "#\n",
    "# > Brian has a phone number of 333-333-3333\n",
    "# > Lenny has a phone number of 444-444-4444\n",
    "# > Daniel has a phone number of 777-777-7777\n",
    "#\n",
    "# Use the contacts below"
   ]
  },
  {
   "cell_type": "code",
   "execution_count": null,
   "metadata": {},
   "outputs": [],
   "source": [
    "# Write a function called `multiply_by` that takes a list and\n",
    "# a number, and returns the list of numbers multiplied by that number.\n",
    "#\n",
    "# You'll want to apply your fundamental programming knowledge here.\n",
    "# What are the pieces to this problem? You'll need to define a function,\n",
    "# need a return statement, need a for loop to iterate over the array.\n",
    "#\n",
    "# Example function call:\n",
    "#\n",
    "# multiply_by([1, 2, 3], 5)\n",
    "#\n",
    "# > [5, 10, 15]"
   ]
  }
 ],
 "metadata": {
  "language_info": {
   "name": "python"
  }
 },
 "nbformat": 4,
 "nbformat_minor": 2
}
