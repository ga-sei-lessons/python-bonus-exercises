{
 "cells": [
  {
   "cell_type": "markdown",
   "metadata": {},
   "source": [
    "# Control Flow Exercises"
   ]
  },
  {
   "cell_type": "code",
   "execution_count": null,
   "metadata": {},
   "outputs": [],
   "source": [
    "# exercise-01 Vowel or Consonant\n",
    "\n",
    "# Write the code that:\n",
    "# 1. Prompts the user to enter a letter in the alphabet:\n",
    "#      Please enter a letter from the alphabet (a-z or A-Z): \n",
    "# 2. Write the code that determines whether the letter entered is a vowel\n",
    "# 3. Print one of following messages (substituting the letter for x):\n",
    "#      - The letter x is a vowel\n",
    "#      - The letter x is a consonant\n",
    "\n",
    "# Hints:  Use the in operator to check if a character is in another string\n",
    "#         For example, if some_char in 'abc':\n"
   ]
  },
  {
   "cell_type": "code",
   "execution_count": null,
   "metadata": {},
   "outputs": [],
   "source": [
    "# exercise-02 Length of Phrase\n",
    "\n",
    "# Write the code that:\n",
    "# 1. Prompts the user to enter a phrase:\n",
    "#      Please enter a word or phrase: \n",
    "# 2. Print the following message:\n",
    "#      - What you entered is xx characters long\n",
    "# 3. Return to step 1, unless the word 'quit' was entered."
   ]
  },
  {
   "cell_type": "code",
   "execution_count": null,
   "metadata": {},
   "outputs": [],
   "source": [
    "# exercise-03 Calculate Dog Years\n",
    "\n",
    "# Write the code that:\n",
    "# 1. Prompts the user to enter a dog's age like this:\n",
    "#      Input a dog's age: \n",
    "# 2. Calculates the equivalent dog years, where:\n",
    "#      - The first two years count as 10 years each\n",
    "#      - Any remaining years count as 7 years each\n",
    "# 3. Prints the answer in the following format:\n",
    "#      The dog's age in dog years is xx\n",
    "\n",
    "# Hints:\n",
    "# Use the int() function to convert the string returned from input() into an integer\n",
    "# Start with an if that checks if the age is less than 3\n"
   ]
  },
  {
   "cell_type": "code",
   "execution_count": null,
   "metadata": {},
   "outputs": [],
   "source": [
    "# exercise-04 What kind of Triangle?\n",
    "\n",
    "# Write the code that:\n",
    "# 1. Prompts the user to enter the three lengths of a triangle (one at a time):\n",
    "#      Enter the lengths of three side of a triangle:\n",
    "#      a: \n",
    "#      b:\n",
    "#      c:\n",
    "# 2. Write the code that determines if the triangle is:\n",
    "#      equilateral - all three sides are equal in length\n",
    "#      scalene - all three sides are unequal in length\n",
    "#      isosceles - exactly two sides are the same length\n",
    "# 3. Print a message such as:\n",
    "#      - A triangle with sides of <a>, <b> & <c> is a <type of triangle> triangle\n"
   ]
  },
  {
   "cell_type": "code",
   "execution_count": null,
   "metadata": {},
   "outputs": [],
   "source": [
    "# exercise-05 What's the Season?\n",
    "\n",
    "# Write the code that:\n",
    "# 1. Prompts the user to enter the month (as three characters):\n",
    "#      Enter the month of the year (Jan - Dec):\n",
    "# 2. Then prompts the user to enter the day of the month: \n",
    "#      Enter the day of the month:\n",
    "# 3. Calculate what season it is based upon this chart:\n",
    "#      Dec 21 - Mar 19: Winter\n",
    "#      Mar 20 - Jun 20: Spring\n",
    "#      Jun 21 - Sep 21: Summer\n",
    "#      Sep 22 - Dec 20: Fall\n",
    "# 4. Print the result as follows:\n",
    "#      <Mmm> <dd> is in <season> \n",
    "\n",
    "# Hints:\n",
    "# Consider using the in operator to check if a string is in a particular list/tuple like this:\n",
    "#   if input_month in ('Jan', 'Feb', 'Mar'):\n",
    "#\n",
    "# After setting the likely season, you can use another if...elif...else statement to \"adjust\" if\n",
    "# the day number falls within a certain range."
   ]
  },
  {
   "cell_type": "markdown",
   "metadata": {},
   "source": [
    "# Containers Exercises"
   ]
  },
  {
   "cell_type": "markdown",
   "metadata": {},
   "source": [
    "#### Exercise 1\n",
    "\n",
    "- Create a list named `students` containing some student names (strings).\n",
    "- Print out the second student's name.\n",
    "- Print out the last student's name."
   ]
  },
  {
   "cell_type": "code",
   "execution_count": null,
   "metadata": {},
   "outputs": [],
   "source": [
    "# Exercise 1"
   ]
  },
  {
   "cell_type": "markdown",
   "metadata": {},
   "source": [
    "#### Exercise 2\n",
    "\n",
    "- Create a tuple named `foods` containing the same number of foods (strings) as there are names in the `students` list.\n",
    "- Use a `for` loop to print out the string \"[_food goes here_] is a good food\"."
   ]
  },
  {
   "cell_type": "code",
   "execution_count": null,
   "metadata": {},
   "outputs": [],
   "source": [
    "# Exercise 2"
   ]
  },
  {
   "cell_type": "markdown",
   "metadata": {},
   "source": [
    "#### Exercise 3\n",
    "\n",
    "- Using a `for` loop, print just the last two food strings from `foods`.\n",
    "\n",
    "  > Hint:  Use the slice operator to select the last two foods"
   ]
  },
  {
   "cell_type": "code",
   "execution_count": null,
   "metadata": {},
   "outputs": [],
   "source": [
    "# Exercise 3"
   ]
  },
  {
   "cell_type": "markdown",
   "metadata": {},
   "source": [
    "#### Exercise 4\n",
    "\n",
    "- Create a dictionary named `home_town` containing the keys of `city`, `state` and `population`.\n",
    "- Print a string with this format:<br>\"I was born in _city_, _state_ - population of _population_\""
   ]
  },
  {
   "cell_type": "code",
   "execution_count": null,
   "metadata": {},
   "outputs": [],
   "source": [
    "# Exercise 4"
   ]
  },
  {
   "cell_type": "markdown",
   "metadata": {},
   "source": [
    "#### Exercise 5\n",
    "\n",
    "- Iterate over the _key: value_ pairs in `home_town` and print a string for each item, for example:<br>\"city = Arcadia\"<br>\"state = California\"<br>\"population = 58000\"\n"
   ]
  },
  {
   "cell_type": "code",
   "execution_count": null,
   "metadata": {},
   "outputs": [],
   "source": [
    "# Exercise 5"
   ]
  },
  {
   "cell_type": "markdown",
   "metadata": {},
   "source": [
    "\n",
    "#### Exercise 6\n",
    "\n",
    "- Create an empty list named `cohort`.\n",
    "- Using a `for` loop to iterate over the `students` list.\n",
    "  > Hint: Use the `enumerate` function to provide both the index & student\n",
    "- Within the `for` loop, add a dictionary to the `cohort` list that combines the student's name and the food in the `foods` list at the same index. Each dictionary will have this shape:\n",
    "\n",
    "\t```python\n",
    "\t{\n",
    "\t  'student': 'Tina',\n",
    "\t  'fav_food': 'Cheeseburger'\n",
    "\t}\n",
    "\t```\n",
    "- Iterate over the `cohort` list, printing out each item (it's not necessary to format the dictionaries)."
   ]
  },
  {
   "cell_type": "code",
   "execution_count": null,
   "metadata": {},
   "outputs": [],
   "source": [
    "# Exercise 6"
   ]
  },
  {
   "cell_type": "markdown",
   "metadata": {},
   "source": [
    "#### Exercise 7\n",
    "\n",
    "- Using the list of `students` and a list comprehension, assign to a variable named `awesome_students` a new list containing strings similar to this:<br>`[\"Tina is awesome!\", \"Fred is awesome!\", \"Wilma is awesome!\"]`\n",
    "- Iterate over the `awesome_students` list, printing out each string."
   ]
  },
  {
   "cell_type": "code",
   "execution_count": null,
   "metadata": {},
   "outputs": [],
   "source": [
    "# Exercise 7"
   ]
  },
  {
   "cell_type": "markdown",
   "metadata": {},
   "source": [
    "#### Exercise 8\n",
    "\n",
    "- Use a `for` loop to iterate over a list comprehension that filters the  `foods` tuple to only include food strings that contains the letter `a`.\n",
    "- Within the `for` loop, print each food string."
   ]
  },
  {
   "cell_type": "code",
   "execution_count": null,
   "metadata": {},
   "outputs": [],
   "source": [
    "# Exercise 8"
   ]
  },
  {
   "cell_type": "markdown",
   "metadata": {},
   "source": [
    "# Functions Exercises"
   ]
  },
  {
   "cell_type": "markdown",
   "metadata": {},
   "source": [
    "1. Write a function named `sum_to` that accepts a single integer, `n`, and returns the sum of the integers from 1 to `n`.\n",
    "\t\n",
    "\tFor example:\n",
    "\n",
    "\t```python\n",
    "\tsum_to(6)  # returns 21\n",
    "\tsum_to(10) # returns 55\n",
    "\t```\n"
   ]
  },
  {
   "cell_type": "code",
   "execution_count": null,
   "metadata": {},
   "outputs": [],
   "source": [
    "# Exercise 1"
   ]
  },
  {
   "cell_type": "markdown",
   "metadata": {},
   "source": [
    "2. Write a function named `largest` that takes a list of numbers as an argument and returns the largest number in that list.\n",
    "\n",
    "\tFor example:\n",
    "\t\n",
    "\t```python\n",
    "\tlargest([1, 2, 3, 4, 0])  # returns 4\n",
    "\tlargest([10, 4, 2, 231, 91, 54])  # returns 231"
   ]
  },
  {
   "cell_type": "code",
   "execution_count": null,
   "metadata": {},
   "outputs": [],
   "source": [
    "# Exercise 2"
   ]
  },
  {
   "cell_type": "markdown",
   "metadata": {},
   "source": [
    "3. Write a function named `occurrences` that takes two string arguments as input and counts the number of occurrences of the second string inside the first string.\n",
    "\n",
    "\tFor example:\n",
    "\n",
    "\t```python\n",
    "\toccurrences('fleep floop', 'e')   # returns 2\n",
    "\toccurrences('fleep floop', 'p')   # returns 2\n",
    "\toccurrences('fleep floop', 'ee')  # returns 1\n",
    "\toccurrences('fleep floop', 'fe')  # returns 0\n",
    "\t```"
   ]
  },
  {
   "cell_type": "code",
   "execution_count": null,
   "metadata": {},
   "outputs": [],
   "source": [
    "# Exercise 3"
   ]
  },
  {
   "cell_type": "markdown",
   "metadata": {},
   "source": [
    "4. Write a function named `product` that takes an *arbitrary* number of numbers, multiplies them all together, and returns the product.<br>(HINT: Review your notes on `*args`).\n",
    "\n",
    "\tFor example:\n",
    "\t\n",
    "\t```python\n",
    "\tproduct(-1, 4) # returns -4\n",
    "\tproduct(2, 5, 5) # returns 50\n",
    "\tproduct(4, 0.5, 5) # returns 10.0"
   ]
  },
  {
   "cell_type": "code",
   "execution_count": null,
   "metadata": {},
   "outputs": [],
   "source": [
    "# Exercise 4"
   ]
  },
  {
   "cell_type": "markdown",
   "metadata": {},
   "source": [
    "## Bonus Challenge\n",
    "\n",
    "Write a function named `steps_to_zero` that accepts a non-negative integer as an argument, and returns the number of steps it took to reduce the integer to zero. If the current number is even, you have to divide it by 2, otherwise, you have to subtract 1 from it.\n",
    "\t\n",
    "\tFor example:\n",
    "\t\n",
    "\t```python\n",
    "\tsteps_to_zero(14) # returns 6\n",
    "\t```\n",
    "\t\n",
    "\tExplanation:\n",
    "\t```\n",
    "\tStep 1) 14 is even; divide by 2 and obtain 7. \n",
    "\tStep 2) 7 is odd; subtract 1 and obtain 6.\n",
    "\tStep 3) 6 is even; divide by 2 and obtain 3. \n",
    "\tStep 4) 3 is odd; subtract 1 and obtain 2. \n",
    "\tStep 5) 2 is even; divide by 2 and obtain 1. \n",
    "\tStep 6) 1 is odd; subtract 1 and obtain 0.\n",
    "\t```"
   ]
  },
  {
   "cell_type": "code",
   "execution_count": null,
   "metadata": {},
   "outputs": [],
   "source": []
  }
 ],
 "metadata": {
  "language_info": {
   "name": "python"
  }
 },
 "nbformat": 4,
 "nbformat_minor": 2
}
